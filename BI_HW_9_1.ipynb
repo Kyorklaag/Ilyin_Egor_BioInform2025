{
  "nbformat": 4,
  "nbformat_minor": 0,
  "metadata": {
    "colab": {
      "provenance": []
    },
    "kernelspec": {
      "name": "python3",
      "display_name": "Python 3"
    },
    "language_info": {
      "name": "python"
    }
  },
  "cells": [
    {
      "cell_type": "code",
      "execution_count": 1,
      "metadata": {
        "id": "IVYs3Ys_hODx"
      },
      "outputs": [],
      "source": [
        "import pandas as pd\n",
        "import numpy as np\n",
        "import scipy.stats as sps\n",
        "import seaborn as sns"
      ]
    },
    {
      "cell_type": "markdown",
      "source": [
        "#Пункт 1"
      ],
      "metadata": {
        "id": "-dHT_WcFT1qs"
      }
    },
    {
      "cell_type": "code",
      "source": [
        " sample = sps.uniform.rvs(size=50)\n"
      ],
      "metadata": {
        "id": "uUCPwjMmkYXs"
      },
      "execution_count": 2,
      "outputs": []
    },
    {
      "cell_type": "code",
      "source": [
        "sns.boxplot(data=sample)"
      ],
      "metadata": {
        "colab": {
          "base_uri": "https://localhost:8080/",
          "height": 428
        },
        "id": "G0EAnkotlD_v",
        "outputId": "a1c845ad-cb20-45f7-d9ed-865afef435c4"
      },
      "execution_count": 3,
      "outputs": [
        {
          "output_type": "execute_result",
          "data": {
            "text/plain": [
              "<Axes: >"
            ]
          },
          "metadata": {},
          "execution_count": 3
        },
        {
          "output_type": "display_data",
          "data": {
            "text/plain": [
              "<Figure size 640x480 with 1 Axes>"
            ],
            "image/png": "[encoded data removed]"
          },
          "metadata": {}
        }
      ]
    },
    {
      "cell_type": "markdown",
      "source": [
        "Достаточно ожидемый вид коробки для равномерного распределения, квантили примерно равны по размеру, выбросов нет."
      ],
      "metadata": {
        "id": "0wE3TYanT7wk"
      }
    },
    {
      "cell_type": "markdown",
      "source": [
        "#Пункт 2"
      ],
      "metadata": {
        "id": "0TTW0qopULIW"
      }
    },
    {
      "cell_type": "code",
      "source": [
        "sample = np.array([79, 80, 80, 80, 74, 80, 80, 79, 64, 78, 73, 78, 74, 45, 81, 48, 80, 82, 82, 70])"
      ],
      "metadata": {
        "id": "K-QK0nMal0Vh"
      },
      "execution_count": 4,
      "outputs": []
    },
    {
      "cell_type": "markdown",
      "source": [
        "a) Получим квантили"
      ],
      "metadata": {
        "id": "zplA8ioHUVws"
      }
    },
    {
      "cell_type": "code",
      "source": [
        "Q0 = np.quantile(sample, 0)\n",
        "Q1 = np.quantile(sample, 0.25)\n",
        "Q2 = np.quantile(sample, 0.5)\n",
        "Q3 = np.quantile(sample, 0.75)\n",
        "Q4 = np.quantile(sample, 1)"
      ],
      "metadata": {
        "id": "iddvk_hqmJ55"
      },
      "execution_count": 5,
      "outputs": []
    },
    {
      "cell_type": "markdown",
      "source": [
        "b) Рассчитаем межквантильное расстояние"
      ],
      "metadata": {
        "id": "BrhJcNDMUjkk"
      }
    },
    {
      "cell_type": "code",
      "source": [
        "IQR = Q3 - Q1\n",
        "print(IQR)"
      ],
      "metadata": {
        "colab": {
          "base_uri": "https://localhost:8080/"
        },
        "id": "A1Ig_ViCtOa4",
        "outputId": "41d7c8b8-1583-4d0c-faad-2aea87c363be"
      },
      "execution_count": 6,
      "outputs": [
        {
          "output_type": "stream",
          "name": "stdout",
          "text": [
            "6.25\n"
          ]
        }
      ]
    },
    {
      "cell_type": "markdown",
      "source": [
        "c) Выведем границы квантилей"
      ],
      "metadata": {
        "id": "HwZ3gdMeWMbi"
      }
    },
    {
      "cell_type": "code",
      "source": [
        "print('Максимум', Q4)\n",
        "print('Граница третьего квантиля', Q3)\n",
        "print('Медиана', Q2)\n",
        "print('Граница первого квантиля', Q1)\n",
        "print('Минимум', Q0)"
      ],
      "metadata": {
        "colab": {
          "base_uri": "https://localhost:8080/"
        },
        "id": "lcV7Ur7YtfTO",
        "outputId": "7bfc484b-6a9a-4bab-b14e-b88214d943c9"
      },
      "execution_count": 7,
      "outputs": [
        {
          "output_type": "stream",
          "name": "stdout",
          "text": [
            "Максимум 82\n",
            "Граница третьего квантиля 80.0\n",
            "Медиана 79.0\n",
            "Граница первого квантиля 73.75\n",
            "Минимум 45\n"
          ]
        }
      ]
    },
    {
      "cell_type": "markdown",
      "source": [
        "d) Исследуем на наличие выбросов"
      ],
      "metadata": {
        "id": "sOO6iIWJWVxn"
      }
    },
    {
      "cell_type": "code",
      "source": [
        "upper_outlier_threshold = Q3 + 1.5 * IQR\n",
        "lower_outlier_threshold = Q1 - 1.5 * IQR\n",
        "outliers = sample[(sample < lower_outlier_threshold) | (sample > upper_outlier_threshold)]\n",
        "print('Нижняя граница выбросов', upper_outlier_threshold)\n",
        "print('Верхняя граница выбросов', lower_outlier_threshold)\n",
        "print('Выбросы: ', outliers)"
      ],
      "metadata": {
        "colab": {
          "base_uri": "https://localhost:8080/"
        },
        "id": "HtraWNypt2k8",
        "outputId": "18037d97-684e-4fc4-8c2a-72a8cf32b555"
      },
      "execution_count": 8,
      "outputs": [
        {
          "output_type": "stream",
          "name": "stdout",
          "text": [
            "Нижняя граница выбросов 89.375\n",
            "Верхняя граница выбросов 64.375\n",
            "Выбросы:  [64 45 48]\n"
          ]
        }
      ]
    },
    {
      "cell_type": "markdown",
      "source": [
        "e) Построим ящик с усами"
      ],
      "metadata": {
        "id": "CpkVanW9Wa6B"
      }
    },
    {
      "cell_type": "code",
      "source": [
        "sns.boxplot(data=sample)"
      ],
      "metadata": {
        "colab": {
          "base_uri": "https://localhost:8080/",
          "height": 428
        },
        "id": "okBOyEgLmGaZ",
        "outputId": "8e79a4cf-ba03-4eb0-ab97-465dbed4e56a"
      },
      "execution_count": 9,
      "outputs": [
        {
          "output_type": "execute_result",
          "data": {
            "text/plain": [
              "<Axes: >"
            ]
          },
          "metadata": {},
          "execution_count": 9
        },
        {
          "output_type": "display_data",
          "data": {
            "text/plain": [
              "<Figure size 640x480 with 1 Axes>"
            ],
            "image/png": "[encoded data removed]"
          },
          "metadata": {}
        }
      ]
    }
  ]
}